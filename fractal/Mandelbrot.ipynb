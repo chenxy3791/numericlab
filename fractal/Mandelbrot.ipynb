{
 "cells": [
  {
   "cell_type": "markdown",
   "metadata": {},
   "source": [
    "### Mandelbrot\n",
    "This notebook is inspired by the [TensorFlow documentation](https://www.tensorflow.org/versions/r0.11/tutorials/mandelbrot/index.html) using assignments `tf.assign` and `tf.assign_add` to update variables in the graph from python.\n",
    "\n",
    "### Definition of the Mandelbrot set\n",
    "Remember the 80ies! z is a complex number. We consider the recursive relation \n",
    "\n",
    "$$\n",
    "      z_{n+1} = z^2_{n} + c \\text{  with  } z_0 = 0      \n",
    "$$\n",
    "\n",
    "Now consider several numbers c, like $c=0 + 0 \\cdot i$ if above recursion does not diverge, then c is part of the Mandelbrot set. "
   ]
  },
  {
   "cell_type": "code",
   "execution_count": null,
   "metadata": {},
   "outputs": [],
   "source": [
    "import tensorflow as tf\n",
    "import numpy as np\n",
    "import matplotlib.pyplot as plt\n",
    "import time\n",
    "%matplotlib inline"
   ]
  },
  {
   "cell_type": "markdown",
   "metadata": {},
   "source": [
    "# numpy.mgrid usage\n",
    "\n",
    "The first parameter for y-axis (below refered to y_col), the second parameter for x-axis(below refered to x_row).  \n",
    "这个函数的作用是，将y_col看作列向量横向扩展（列复制）,将x_row看作行向量纵向扩展（行复制）。\n"
   ]
  },
  {
   "cell_type": "code",
   "execution_count": null,
   "metadata": {},
   "outputs": [],
   "source": [
    "## Demonstration of representation range of complex64.\n",
    "C  = 0.9 + 1j*1.2\n",
    "Z  = 0\n",
    "\n",
    "for k in range(20):\n",
    "    Z = Z * Z + C\n",
    "    #print('k = ', k, ' Z = ', Z)    \n"
   ]
  },
  {
   "cell_type": "code",
   "execution_count": null,
   "metadata": {},
   "outputs": [],
   "source": [
    "niter     = 100\n",
    "grid_step = 0.001\n",
    "\n",
    "#  Preparing the grid\n",
    "Y, X = np.mgrid[-1.3:1.3:grid_step, -2:1:grid_step] \n",
    "C_ = np.asarray(X+1j*Y, dtype='complex64') # complex grid matrix, represents 2D coordinate points in the Cartesian coordiante plane.\n",
    "Z_ = np.zeros_like(C_, dtype='complex64')\n",
    "C_.shape"
   ]
  },
  {
   "cell_type": "code",
   "execution_count": null,
   "metadata": {},
   "outputs": [],
   "source": [
    "start = time.time()\n",
    "for kk in range(niter):\n",
    "    Z_ = Z_ * Z_ + C_        \n",
    "print('Total time {} msec'.format(time.time() - start))    "
   ]
  },
  {
   "cell_type": "code",
   "execution_count": null,
   "metadata": {},
   "outputs": [],
   "source": [
    "plt.figure(figsize=(14, 10))\n",
    "plt.imshow(np.abs(Z_ < 4))"
   ]
  },
  {
   "cell_type": "code",
   "execution_count": null,
   "metadata": {},
   "outputs": [],
   "source": []
  },
  {
   "cell_type": "markdown",
   "metadata": {},
   "source": [
    "## Making it nicer\n",
    "\n",
    "The evaluated elapsed-time seems very strange.  \n",
    "打印出来的值只有ms量级，实际运行时间感觉10秒量级。。。为什么会有如此巨大的差距？"
   ]
  },
  {
   "cell_type": "code",
   "execution_count": null,
   "metadata": {},
   "outputs": [],
   "source": [
    "Z_ = np.zeros_like(C_, dtype='complex64')\n",
    "N_ = np.zeros_like(C_, dtype='int32')\n",
    "start = time.time()\n",
    "for kk in range(200):\n",
    "    Z_ = Z_ * Z_ + C_        \n",
    "    N_[np.abs(Z_) > 10] = kk\n",
    "print('Total time {} msec'.format(time.time() - start))    "
   ]
  },
  {
   "cell_type": "code",
   "execution_count": null,
   "metadata": {},
   "outputs": [],
   "source": [
    "plt.figure(figsize=(20, 15))\n",
    "plt.imshow(np.log(np.abs(N_)))"
   ]
  },
  {
   "cell_type": "code",
   "execution_count": null,
   "metadata": {},
   "outputs": [],
   "source": []
  }
 ],
 "metadata": {
  "kernelspec": {
   "display_name": "Python 3",
   "language": "python",
   "name": "python3"
  },
  "language_info": {
   "codemirror_mode": {
    "name": "ipython",
    "version": 3
   },
   "file_extension": ".py",
   "mimetype": "text/x-python",
   "name": "python",
   "nbconvert_exporter": "python",
   "pygments_lexer": "ipython3",
   "version": "3.6.5"
  }
 },
 "nbformat": 4,
 "nbformat_minor": 1
}
